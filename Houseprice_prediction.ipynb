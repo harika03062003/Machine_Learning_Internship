{
 "cells": [
  {
   "cell_type": "markdown",
   "id": "3033b90a",
   "metadata": {},
   "source": [
    "# House price prediction using Machine learning"
   ]
  },
  {
   "cell_type": "markdown",
   "id": "09f16136",
   "metadata": {},
   "source": [
    "# Importing the necessary libraries"
   ]
  },
  {
   "cell_type": "code",
   "execution_count": 1,
   "id": "318d3dc0",
   "metadata": {},
   "outputs": [],
   "source": [
    "import pandas as pd\n",
    "import numpy as np\n",
    "import matplotlib.pyplot as plt\n",
    "from sklearn.linear_model import LinearRegression\n",
    "from sklearn.model_selection import train_test_split\n",
    "from sklearn.metrics import mean_squared_error, r2_score\n",
    "import seaborn as sns"
   ]
  },
  {
   "cell_type": "markdown",
   "id": "a4093127",
   "metadata": {},
   "source": [
    "# Reading the Data\n",
    "Read in the HousePricePrediction.xlsx file and converting it into HousePricePredictioncsvfile.csv file "
   ]
  },
  {
   "cell_type": "code",
   "execution_count": 2,
   "id": "81357fb9",
   "metadata": {},
   "outputs": [
    {
     "data": {
      "text/html": [
       "<div>\n",
       "<style scoped>\n",
       "    .dataframe tbody tr th:only-of-type {\n",
       "        vertical-align: middle;\n",
       "    }\n",
       "\n",
       "    .dataframe tbody tr th {\n",
       "        vertical-align: top;\n",
       "    }\n",
       "\n",
       "    .dataframe thead th {\n",
       "        text-align: right;\n",
       "    }\n",
       "</style>\n",
       "<table border=\"1\" class=\"dataframe\">\n",
       "  <thead>\n",
       "    <tr style=\"text-align: right;\">\n",
       "      <th></th>\n",
       "      <th>Id</th>\n",
       "      <th>MSSubClass</th>\n",
       "      <th>MSZoning</th>\n",
       "      <th>LotArea</th>\n",
       "      <th>LotConfig</th>\n",
       "      <th>BldgType</th>\n",
       "      <th>OverallCond</th>\n",
       "      <th>YearBuilt</th>\n",
       "      <th>YearRemodAdd</th>\n",
       "      <th>Exterior1st</th>\n",
       "      <th>BsmtFinSF2</th>\n",
       "      <th>TotalBsmtSF</th>\n",
       "      <th>SalePrice</th>\n",
       "    </tr>\n",
       "  </thead>\n",
       "  <tbody>\n",
       "    <tr>\n",
       "      <th>0</th>\n",
       "      <td>0</td>\n",
       "      <td>60</td>\n",
       "      <td>RL</td>\n",
       "      <td>8450</td>\n",
       "      <td>Inside</td>\n",
       "      <td>1Fam</td>\n",
       "      <td>5</td>\n",
       "      <td>2003</td>\n",
       "      <td>2003</td>\n",
       "      <td>VinylSd</td>\n",
       "      <td>0.0</td>\n",
       "      <td>856.0</td>\n",
       "      <td>208500.0</td>\n",
       "    </tr>\n",
       "    <tr>\n",
       "      <th>1</th>\n",
       "      <td>1</td>\n",
       "      <td>20</td>\n",
       "      <td>RL</td>\n",
       "      <td>9600</td>\n",
       "      <td>FR2</td>\n",
       "      <td>1Fam</td>\n",
       "      <td>8</td>\n",
       "      <td>1976</td>\n",
       "      <td>1976</td>\n",
       "      <td>MetalSd</td>\n",
       "      <td>0.0</td>\n",
       "      <td>1262.0</td>\n",
       "      <td>181500.0</td>\n",
       "    </tr>\n",
       "    <tr>\n",
       "      <th>2</th>\n",
       "      <td>2</td>\n",
       "      <td>60</td>\n",
       "      <td>RL</td>\n",
       "      <td>11250</td>\n",
       "      <td>Inside</td>\n",
       "      <td>1Fam</td>\n",
       "      <td>5</td>\n",
       "      <td>2001</td>\n",
       "      <td>2002</td>\n",
       "      <td>VinylSd</td>\n",
       "      <td>0.0</td>\n",
       "      <td>920.0</td>\n",
       "      <td>223500.0</td>\n",
       "    </tr>\n",
       "    <tr>\n",
       "      <th>3</th>\n",
       "      <td>3</td>\n",
       "      <td>70</td>\n",
       "      <td>RL</td>\n",
       "      <td>9550</td>\n",
       "      <td>Corner</td>\n",
       "      <td>1Fam</td>\n",
       "      <td>5</td>\n",
       "      <td>1915</td>\n",
       "      <td>1970</td>\n",
       "      <td>Wd Sdng</td>\n",
       "      <td>0.0</td>\n",
       "      <td>756.0</td>\n",
       "      <td>140000.0</td>\n",
       "    </tr>\n",
       "    <tr>\n",
       "      <th>4</th>\n",
       "      <td>4</td>\n",
       "      <td>60</td>\n",
       "      <td>RL</td>\n",
       "      <td>14260</td>\n",
       "      <td>FR2</td>\n",
       "      <td>1Fam</td>\n",
       "      <td>5</td>\n",
       "      <td>2000</td>\n",
       "      <td>2000</td>\n",
       "      <td>VinylSd</td>\n",
       "      <td>0.0</td>\n",
       "      <td>1145.0</td>\n",
       "      <td>250000.0</td>\n",
       "    </tr>\n",
       "  </tbody>\n",
       "</table>\n",
       "</div>"
      ],
      "text/plain": [
       "   Id  MSSubClass MSZoning  LotArea LotConfig BldgType  OverallCond  \\\n",
       "0   0          60       RL     8450    Inside     1Fam            5   \n",
       "1   1          20       RL     9600       FR2     1Fam            8   \n",
       "2   2          60       RL    11250    Inside     1Fam            5   \n",
       "3   3          70       RL     9550    Corner     1Fam            5   \n",
       "4   4          60       RL    14260       FR2     1Fam            5   \n",
       "\n",
       "   YearBuilt  YearRemodAdd Exterior1st  BsmtFinSF2  TotalBsmtSF  SalePrice  \n",
       "0       2003          2003     VinylSd         0.0        856.0   208500.0  \n",
       "1       1976          1976     MetalSd         0.0       1262.0   181500.0  \n",
       "2       2001          2002     VinylSd         0.0        920.0   223500.0  \n",
       "3       1915          1970     Wd Sdng         0.0        756.0   140000.0  \n",
       "4       2000          2000     VinylSd         0.0       1145.0   250000.0  "
      ]
     },
     "execution_count": 2,
     "metadata": {},
     "output_type": "execute_result"
    }
   ],
   "source": [
    "df= pd.read_excel('HousePricePrediction.xlsx')\n",
    "df.to_csv('HousePricePredictioncsvfile.csv', index=False)\n",
    "df.head()"
   ]
  },
  {
   "cell_type": "markdown",
   "id": "9cfdfcc5",
   "metadata": {},
   "source": [
    "** Using info and describe on df"
   ]
  },
  {
   "cell_type": "code",
   "execution_count": 3,
   "id": "03502e95",
   "metadata": {},
   "outputs": [
    {
     "name": "stdout",
     "output_type": "stream",
     "text": [
      "<class 'pandas.core.frame.DataFrame'>\n",
      "RangeIndex: 2919 entries, 0 to 2918\n",
      "Data columns (total 13 columns):\n",
      " #   Column        Non-Null Count  Dtype  \n",
      "---  ------        --------------  -----  \n",
      " 0   Id            2919 non-null   int64  \n",
      " 1   MSSubClass    2919 non-null   int64  \n",
      " 2   MSZoning      2915 non-null   object \n",
      " 3   LotArea       2919 non-null   int64  \n",
      " 4   LotConfig     2919 non-null   object \n",
      " 5   BldgType      2919 non-null   object \n",
      " 6   OverallCond   2919 non-null   int64  \n",
      " 7   YearBuilt     2919 non-null   int64  \n",
      " 8   YearRemodAdd  2919 non-null   int64  \n",
      " 9   Exterior1st   2918 non-null   object \n",
      " 10  BsmtFinSF2    2918 non-null   float64\n",
      " 11  TotalBsmtSF   2918 non-null   float64\n",
      " 12  SalePrice     1460 non-null   float64\n",
      "dtypes: float64(3), int64(6), object(4)\n",
      "memory usage: 296.6+ KB\n"
     ]
    }
   ],
   "source": [
    "df.info()"
   ]
  },
  {
   "cell_type": "code",
   "execution_count": 4,
   "id": "e9fb3aec",
   "metadata": {},
   "outputs": [
    {
     "data": {
      "text/html": [
       "<div>\n",
       "<style scoped>\n",
       "    .dataframe tbody tr th:only-of-type {\n",
       "        vertical-align: middle;\n",
       "    }\n",
       "\n",
       "    .dataframe tbody tr th {\n",
       "        vertical-align: top;\n",
       "    }\n",
       "\n",
       "    .dataframe thead th {\n",
       "        text-align: right;\n",
       "    }\n",
       "</style>\n",
       "<table border=\"1\" class=\"dataframe\">\n",
       "  <thead>\n",
       "    <tr style=\"text-align: right;\">\n",
       "      <th></th>\n",
       "      <th>Id</th>\n",
       "      <th>MSSubClass</th>\n",
       "      <th>LotArea</th>\n",
       "      <th>OverallCond</th>\n",
       "      <th>YearBuilt</th>\n",
       "      <th>YearRemodAdd</th>\n",
       "      <th>BsmtFinSF2</th>\n",
       "      <th>TotalBsmtSF</th>\n",
       "      <th>SalePrice</th>\n",
       "    </tr>\n",
       "  </thead>\n",
       "  <tbody>\n",
       "    <tr>\n",
       "      <th>count</th>\n",
       "      <td>2919.000000</td>\n",
       "      <td>2919.000000</td>\n",
       "      <td>2919.000000</td>\n",
       "      <td>2919.000000</td>\n",
       "      <td>2919.000000</td>\n",
       "      <td>2919.000000</td>\n",
       "      <td>2918.000000</td>\n",
       "      <td>2918.000000</td>\n",
       "      <td>1460.000000</td>\n",
       "    </tr>\n",
       "    <tr>\n",
       "      <th>mean</th>\n",
       "      <td>1459.000000</td>\n",
       "      <td>57.137718</td>\n",
       "      <td>10168.114080</td>\n",
       "      <td>5.564577</td>\n",
       "      <td>1971.312778</td>\n",
       "      <td>1984.264474</td>\n",
       "      <td>49.582248</td>\n",
       "      <td>1051.777587</td>\n",
       "      <td>180921.195890</td>\n",
       "    </tr>\n",
       "    <tr>\n",
       "      <th>std</th>\n",
       "      <td>842.787043</td>\n",
       "      <td>42.517628</td>\n",
       "      <td>7886.996359</td>\n",
       "      <td>1.113131</td>\n",
       "      <td>30.291442</td>\n",
       "      <td>20.894344</td>\n",
       "      <td>169.205611</td>\n",
       "      <td>440.766258</td>\n",
       "      <td>79442.502883</td>\n",
       "    </tr>\n",
       "    <tr>\n",
       "      <th>min</th>\n",
       "      <td>0.000000</td>\n",
       "      <td>20.000000</td>\n",
       "      <td>1300.000000</td>\n",
       "      <td>1.000000</td>\n",
       "      <td>1872.000000</td>\n",
       "      <td>1950.000000</td>\n",
       "      <td>0.000000</td>\n",
       "      <td>0.000000</td>\n",
       "      <td>34900.000000</td>\n",
       "    </tr>\n",
       "    <tr>\n",
       "      <th>25%</th>\n",
       "      <td>729.500000</td>\n",
       "      <td>20.000000</td>\n",
       "      <td>7478.000000</td>\n",
       "      <td>5.000000</td>\n",
       "      <td>1953.500000</td>\n",
       "      <td>1965.000000</td>\n",
       "      <td>0.000000</td>\n",
       "      <td>793.000000</td>\n",
       "      <td>129975.000000</td>\n",
       "    </tr>\n",
       "    <tr>\n",
       "      <th>50%</th>\n",
       "      <td>1459.000000</td>\n",
       "      <td>50.000000</td>\n",
       "      <td>9453.000000</td>\n",
       "      <td>5.000000</td>\n",
       "      <td>1973.000000</td>\n",
       "      <td>1993.000000</td>\n",
       "      <td>0.000000</td>\n",
       "      <td>989.500000</td>\n",
       "      <td>163000.000000</td>\n",
       "    </tr>\n",
       "    <tr>\n",
       "      <th>75%</th>\n",
       "      <td>2188.500000</td>\n",
       "      <td>70.000000</td>\n",
       "      <td>11570.000000</td>\n",
       "      <td>6.000000</td>\n",
       "      <td>2001.000000</td>\n",
       "      <td>2004.000000</td>\n",
       "      <td>0.000000</td>\n",
       "      <td>1302.000000</td>\n",
       "      <td>214000.000000</td>\n",
       "    </tr>\n",
       "    <tr>\n",
       "      <th>max</th>\n",
       "      <td>2918.000000</td>\n",
       "      <td>190.000000</td>\n",
       "      <td>215245.000000</td>\n",
       "      <td>9.000000</td>\n",
       "      <td>2010.000000</td>\n",
       "      <td>2010.000000</td>\n",
       "      <td>1526.000000</td>\n",
       "      <td>6110.000000</td>\n",
       "      <td>755000.000000</td>\n",
       "    </tr>\n",
       "  </tbody>\n",
       "</table>\n",
       "</div>"
      ],
      "text/plain": [
       "                Id   MSSubClass        LotArea  OverallCond    YearBuilt  \\\n",
       "count  2919.000000  2919.000000    2919.000000  2919.000000  2919.000000   \n",
       "mean   1459.000000    57.137718   10168.114080     5.564577  1971.312778   \n",
       "std     842.787043    42.517628    7886.996359     1.113131    30.291442   \n",
       "min       0.000000    20.000000    1300.000000     1.000000  1872.000000   \n",
       "25%     729.500000    20.000000    7478.000000     5.000000  1953.500000   \n",
       "50%    1459.000000    50.000000    9453.000000     5.000000  1973.000000   \n",
       "75%    2188.500000    70.000000   11570.000000     6.000000  2001.000000   \n",
       "max    2918.000000   190.000000  215245.000000     9.000000  2010.000000   \n",
       "\n",
       "       YearRemodAdd   BsmtFinSF2  TotalBsmtSF      SalePrice  \n",
       "count   2919.000000  2918.000000  2918.000000    1460.000000  \n",
       "mean    1984.264474    49.582248  1051.777587  180921.195890  \n",
       "std       20.894344   169.205611   440.766258   79442.502883  \n",
       "min     1950.000000     0.000000     0.000000   34900.000000  \n",
       "25%     1965.000000     0.000000   793.000000  129975.000000  \n",
       "50%     1993.000000     0.000000   989.500000  163000.000000  \n",
       "75%     2004.000000     0.000000  1302.000000  214000.000000  \n",
       "max     2010.000000  1526.000000  6110.000000  755000.000000  "
      ]
     },
     "execution_count": 4,
     "metadata": {},
     "output_type": "execute_result"
    }
   ],
   "source": [
    "df.describe()"
   ]
  },
  {
   "cell_type": "markdown",
   "id": "860a3bc0",
   "metadata": {},
   "source": [
    "# Data preprocessing for changing categorical value into binary format\n",
    "here used OrdinalEncoder method for sklearn preprocessing library"
   ]
  },
  {
   "cell_type": "code",
   "execution_count": 5,
   "id": "0a47e68b",
   "metadata": {},
   "outputs": [
    {
     "data": {
      "text/html": [
       "<div>\n",
       "<style scoped>\n",
       "    .dataframe tbody tr th:only-of-type {\n",
       "        vertical-align: middle;\n",
       "    }\n",
       "\n",
       "    .dataframe tbody tr th {\n",
       "        vertical-align: top;\n",
       "    }\n",
       "\n",
       "    .dataframe thead th {\n",
       "        text-align: right;\n",
       "    }\n",
       "</style>\n",
       "<table border=\"1\" class=\"dataframe\">\n",
       "  <thead>\n",
       "    <tr style=\"text-align: right;\">\n",
       "      <th></th>\n",
       "      <th>Id</th>\n",
       "      <th>MSSubClass</th>\n",
       "      <th>MSZoning</th>\n",
       "      <th>LotArea</th>\n",
       "      <th>LotConfig</th>\n",
       "      <th>BldgType</th>\n",
       "      <th>OverallCond</th>\n",
       "      <th>YearBuilt</th>\n",
       "      <th>YearRemodAdd</th>\n",
       "      <th>Exterior1st</th>\n",
       "      <th>BsmtFinSF2</th>\n",
       "      <th>TotalBsmtSF</th>\n",
       "      <th>SalePrice</th>\n",
       "    </tr>\n",
       "  </thead>\n",
       "  <tbody>\n",
       "    <tr>\n",
       "      <th>0</th>\n",
       "      <td>0</td>\n",
       "      <td>60</td>\n",
       "      <td>3.0</td>\n",
       "      <td>8450</td>\n",
       "      <td>4.0</td>\n",
       "      <td>0.0</td>\n",
       "      <td>5</td>\n",
       "      <td>2003</td>\n",
       "      <td>2003</td>\n",
       "      <td>12.0</td>\n",
       "      <td>0.0</td>\n",
       "      <td>856.0</td>\n",
       "      <td>208500.0</td>\n",
       "    </tr>\n",
       "    <tr>\n",
       "      <th>1</th>\n",
       "      <td>1</td>\n",
       "      <td>20</td>\n",
       "      <td>3.0</td>\n",
       "      <td>9600</td>\n",
       "      <td>2.0</td>\n",
       "      <td>0.0</td>\n",
       "      <td>8</td>\n",
       "      <td>1976</td>\n",
       "      <td>1976</td>\n",
       "      <td>8.0</td>\n",
       "      <td>0.0</td>\n",
       "      <td>1262.0</td>\n",
       "      <td>181500.0</td>\n",
       "    </tr>\n",
       "    <tr>\n",
       "      <th>2</th>\n",
       "      <td>2</td>\n",
       "      <td>60</td>\n",
       "      <td>3.0</td>\n",
       "      <td>11250</td>\n",
       "      <td>4.0</td>\n",
       "      <td>0.0</td>\n",
       "      <td>5</td>\n",
       "      <td>2001</td>\n",
       "      <td>2002</td>\n",
       "      <td>12.0</td>\n",
       "      <td>0.0</td>\n",
       "      <td>920.0</td>\n",
       "      <td>223500.0</td>\n",
       "    </tr>\n",
       "    <tr>\n",
       "      <th>3</th>\n",
       "      <td>3</td>\n",
       "      <td>70</td>\n",
       "      <td>3.0</td>\n",
       "      <td>9550</td>\n",
       "      <td>0.0</td>\n",
       "      <td>0.0</td>\n",
       "      <td>5</td>\n",
       "      <td>1915</td>\n",
       "      <td>1970</td>\n",
       "      <td>13.0</td>\n",
       "      <td>0.0</td>\n",
       "      <td>756.0</td>\n",
       "      <td>140000.0</td>\n",
       "    </tr>\n",
       "    <tr>\n",
       "      <th>4</th>\n",
       "      <td>4</td>\n",
       "      <td>60</td>\n",
       "      <td>3.0</td>\n",
       "      <td>14260</td>\n",
       "      <td>2.0</td>\n",
       "      <td>0.0</td>\n",
       "      <td>5</td>\n",
       "      <td>2000</td>\n",
       "      <td>2000</td>\n",
       "      <td>12.0</td>\n",
       "      <td>0.0</td>\n",
       "      <td>1145.0</td>\n",
       "      <td>250000.0</td>\n",
       "    </tr>\n",
       "  </tbody>\n",
       "</table>\n",
       "</div>"
      ],
      "text/plain": [
       "   Id  MSSubClass  MSZoning  LotArea  LotConfig  BldgType  OverallCond  \\\n",
       "0   0          60       3.0     8450        4.0       0.0            5   \n",
       "1   1          20       3.0     9600        2.0       0.0            8   \n",
       "2   2          60       3.0    11250        4.0       0.0            5   \n",
       "3   3          70       3.0     9550        0.0       0.0            5   \n",
       "4   4          60       3.0    14260        2.0       0.0            5   \n",
       "\n",
       "   YearBuilt  YearRemodAdd  Exterior1st  BsmtFinSF2  TotalBsmtSF  SalePrice  \n",
       "0       2003          2003         12.0         0.0        856.0   208500.0  \n",
       "1       1976          1976          8.0         0.0       1262.0   181500.0  \n",
       "2       2001          2002         12.0         0.0        920.0   223500.0  \n",
       "3       1915          1970         13.0         0.0        756.0   140000.0  \n",
       "4       2000          2000         12.0         0.0       1145.0   250000.0  "
      ]
     },
     "execution_count": 5,
     "metadata": {},
     "output_type": "execute_result"
    }
   ],
   "source": [
    "from sklearn.preprocessing import OrdinalEncoder\n",
    "df['MSZoning'] = df['MSZoning'].replace('C(all)', 'C')\n",
    "encoder = OrdinalEncoder(categories='auto')\n",
    "df[['MSZoning']] = encoder.fit_transform(df[['MSZoning']])\n",
    "df[['LotConfig']] = encoder.fit_transform(df[['LotConfig']])\n",
    "df[['BldgType']] = encoder.fit_transform(df[['BldgType']])\n",
    "df[['Exterior1st']] = encoder.fit_transform(df[['Exterior1st']])\n",
    "df.head()"
   ]
  },
  {
   "cell_type": "markdown",
   "id": "91852b70",
   "metadata": {},
   "source": [
    "# Checking whether missing values are present or not"
   ]
  },
  {
   "cell_type": "code",
   "execution_count": 6,
   "id": "04b18b98",
   "metadata": {},
   "outputs": [
    {
     "data": {
      "text/plain": [
       "Id                 0\n",
       "MSSubClass         0\n",
       "MSZoning           4\n",
       "LotArea            0\n",
       "LotConfig          0\n",
       "BldgType           0\n",
       "OverallCond        0\n",
       "YearBuilt          0\n",
       "YearRemodAdd       0\n",
       "Exterior1st        1\n",
       "BsmtFinSF2         1\n",
       "TotalBsmtSF        1\n",
       "SalePrice       1459\n",
       "dtype: int64"
      ]
     },
     "execution_count": 6,
     "metadata": {},
     "output_type": "execute_result"
    }
   ],
   "source": [
    "missing_values=df.isnull().sum()\n",
    "missing_values\n"
   ]
  },
  {
   "cell_type": "markdown",
   "id": "ab4e7887",
   "metadata": {},
   "source": [
    "# Filling the null values in MSZoning"
   ]
  },
  {
   "cell_type": "code",
   "execution_count": 7,
   "id": "55ffce73",
   "metadata": {},
   "outputs": [
    {
     "data": {
      "text/plain": [
       "False    2919\n",
       "Name: MSZoning, dtype: int64"
      ]
     },
     "execution_count": 7,
     "metadata": {},
     "output_type": "execute_result"
    }
   ],
   "source": [
    "mode_MSZoning = df['MSZoning'].mode()[0]\n",
    "df['MSZoning'] = df['MSZoning'].fillna(mode_MSZoning)\n",
    "\n",
    "(df['MSZoning'].isnull()).value_counts()   "
   ]
  },
  {
   "cell_type": "markdown",
   "id": "8b4ebfc5",
   "metadata": {},
   "source": [
    "# Filling the null values in Exterior1st"
   ]
  },
  {
   "cell_type": "code",
   "execution_count": 8,
   "id": "89416241",
   "metadata": {},
   "outputs": [
    {
     "name": "stdout",
     "output_type": "stream",
     "text": [
      "False    2919\n",
      "Name: Exterior1st, dtype: int64\n"
     ]
    }
   ],
   "source": [
    "mode_value = df[\"Exterior1st\"].mode()[0]\n",
    "df['Exterior1st'] = df['Exterior1st'].fillna(mode_value)\n",
    "print((df['Exterior1st'].isnull()).value_counts())\n"
   ]
  },
  {
   "cell_type": "markdown",
   "id": "a7e45302",
   "metadata": {},
   "source": [
    "# Filling the null values in BsmtFinSF2"
   ]
  },
  {
   "cell_type": "code",
   "execution_count": 9,
   "id": "a645e2ba",
   "metadata": {},
   "outputs": [
    {
     "name": "stdout",
     "output_type": "stream",
     "text": [
      "False    2919\n",
      "Name: BsmtFinSF2, dtype: int64\n"
     ]
    }
   ],
   "source": [
    "mode_value = df['BsmtFinSF2'].mode()[0]\n",
    "df['BsmtFinSF2'] = df['BsmtFinSF2'].fillna(0)\n",
    "print((df['BsmtFinSF2'].isnull()).value_counts())\n"
   ]
  },
  {
   "cell_type": "markdown",
   "id": "8ebabf95",
   "metadata": {},
   "source": [
    "# Filling the null values in TotalBsmtSF"
   ]
  },
  {
   "cell_type": "code",
   "execution_count": 10,
   "id": "09134b2e",
   "metadata": {},
   "outputs": [
    {
     "name": "stdout",
     "output_type": "stream",
     "text": [
      "False    2919\n",
      "Name: TotalBsmtSF, dtype: int64\n"
     ]
    }
   ],
   "source": [
    "mode_value = df['TotalBsmtSF'].mode()[0]\n",
    "df['TotalBsmtSF'] = df['TotalBsmtSF'].fillna(0)\n",
    "print((df['TotalBsmtSF'].isnull()).value_counts())\n"
   ]
  },
  {
   "cell_type": "markdown",
   "id": "8ada50dc",
   "metadata": {},
   "source": [
    "# Predict missing values"
   ]
  },
  {
   "cell_type": "code",
   "execution_count": 11,
   "id": "a8c8de5f",
   "metadata": {},
   "outputs": [],
   "source": [
    "df_missing = df[df['SalePrice'].isnull()]\n",
    "df_not_missing = df.dropna()"
   ]
  },
  {
   "cell_type": "code",
   "execution_count": 12,
   "id": "7a025c9d",
   "metadata": {},
   "outputs": [],
   "source": [
    "X_train = df_not_missing[['MSSubClass', 'YearBuilt', 'YearRemodAdd', 'Exterior1st']]\n",
    "y_train = df_not_missing['SalePrice']"
   ]
  },
  {
   "cell_type": "code",
   "execution_count": 13,
   "id": "29bfe148",
   "metadata": {},
   "outputs": [
    {
     "data": {
      "text/html": [
       "<style>#sk-container-id-1 {color: black;background-color: white;}#sk-container-id-1 pre{padding: 0;}#sk-container-id-1 div.sk-toggleable {background-color: white;}#sk-container-id-1 label.sk-toggleable__label {cursor: pointer;display: block;width: 100%;margin-bottom: 0;padding: 0.3em;box-sizing: border-box;text-align: center;}#sk-container-id-1 label.sk-toggleable__label-arrow:before {content: \"▸\";float: left;margin-right: 0.25em;color: #696969;}#sk-container-id-1 label.sk-toggleable__label-arrow:hover:before {color: black;}#sk-container-id-1 div.sk-estimator:hover label.sk-toggleable__label-arrow:before {color: black;}#sk-container-id-1 div.sk-toggleable__content {max-height: 0;max-width: 0;overflow: hidden;text-align: left;background-color: #f0f8ff;}#sk-container-id-1 div.sk-toggleable__content pre {margin: 0.2em;color: black;border-radius: 0.25em;background-color: #f0f8ff;}#sk-container-id-1 input.sk-toggleable__control:checked~div.sk-toggleable__content {max-height: 200px;max-width: 100%;overflow: auto;}#sk-container-id-1 input.sk-toggleable__control:checked~label.sk-toggleable__label-arrow:before {content: \"▾\";}#sk-container-id-1 div.sk-estimator input.sk-toggleable__control:checked~label.sk-toggleable__label {background-color: #d4ebff;}#sk-container-id-1 div.sk-label input.sk-toggleable__control:checked~label.sk-toggleable__label {background-color: #d4ebff;}#sk-container-id-1 input.sk-hidden--visually {border: 0;clip: rect(1px 1px 1px 1px);clip: rect(1px, 1px, 1px, 1px);height: 1px;margin: -1px;overflow: hidden;padding: 0;position: absolute;width: 1px;}#sk-container-id-1 div.sk-estimator {font-family: monospace;background-color: #f0f8ff;border: 1px dotted black;border-radius: 0.25em;box-sizing: border-box;margin-bottom: 0.5em;}#sk-container-id-1 div.sk-estimator:hover {background-color: #d4ebff;}#sk-container-id-1 div.sk-parallel-item::after {content: \"\";width: 100%;border-bottom: 1px solid gray;flex-grow: 1;}#sk-container-id-1 div.sk-label:hover label.sk-toggleable__label {background-color: #d4ebff;}#sk-container-id-1 div.sk-serial::before {content: \"\";position: absolute;border-left: 1px solid gray;box-sizing: border-box;top: 0;bottom: 0;left: 50%;z-index: 0;}#sk-container-id-1 div.sk-serial {display: flex;flex-direction: column;align-items: center;background-color: white;padding-right: 0.2em;padding-left: 0.2em;position: relative;}#sk-container-id-1 div.sk-item {position: relative;z-index: 1;}#sk-container-id-1 div.sk-parallel {display: flex;align-items: stretch;justify-content: center;background-color: white;position: relative;}#sk-container-id-1 div.sk-item::before, #sk-container-id-1 div.sk-parallel-item::before {content: \"\";position: absolute;border-left: 1px solid gray;box-sizing: border-box;top: 0;bottom: 0;left: 50%;z-index: -1;}#sk-container-id-1 div.sk-parallel-item {display: flex;flex-direction: column;z-index: 1;position: relative;background-color: white;}#sk-container-id-1 div.sk-parallel-item:first-child::after {align-self: flex-end;width: 50%;}#sk-container-id-1 div.sk-parallel-item:last-child::after {align-self: flex-start;width: 50%;}#sk-container-id-1 div.sk-parallel-item:only-child::after {width: 0;}#sk-container-id-1 div.sk-dashed-wrapped {border: 1px dashed gray;margin: 0 0.4em 0.5em 0.4em;box-sizing: border-box;padding-bottom: 0.4em;background-color: white;}#sk-container-id-1 div.sk-label label {font-family: monospace;font-weight: bold;display: inline-block;line-height: 1.2em;}#sk-container-id-1 div.sk-label-container {text-align: center;}#sk-container-id-1 div.sk-container {/* jupyter's `normalize.less` sets `[hidden] { display: none; }` but bootstrap.min.css set `[hidden] { display: none !important; }` so we also need the `!important` here to be able to override the default hidden behavior on the sphinx rendered scikit-learn.org. See: https://github.com/scikit-learn/scikit-learn/issues/21755 */display: inline-block !important;position: relative;}#sk-container-id-1 div.sk-text-repr-fallback {display: none;}</style><div id=\"sk-container-id-1\" class=\"sk-top-container\"><div class=\"sk-text-repr-fallback\"><pre>LinearRegression()</pre><b>In a Jupyter environment, please rerun this cell to show the HTML representation or trust the notebook. <br />On GitHub, the HTML representation is unable to render, please try loading this page with nbviewer.org.</b></div><div class=\"sk-container\" hidden><div class=\"sk-item\"><div class=\"sk-estimator sk-toggleable\"><input class=\"sk-toggleable__control sk-hidden--visually\" id=\"sk-estimator-id-1\" type=\"checkbox\" checked><label for=\"sk-estimator-id-1\" class=\"sk-toggleable__label sk-toggleable__label-arrow\">LinearRegression</label><div class=\"sk-toggleable__content\"><pre>LinearRegression()</pre></div></div></div></div></div>"
      ],
      "text/plain": [
       "LinearRegression()"
      ]
     },
     "execution_count": 13,
     "metadata": {},
     "output_type": "execute_result"
    }
   ],
   "source": [
    "model = LinearRegression()\n",
    "model.fit(X_train, y_train)"
   ]
  },
  {
   "cell_type": "code",
   "execution_count": 14,
   "id": "4a28238d",
   "metadata": {},
   "outputs": [
    {
     "name": "stdout",
     "output_type": "stream",
     "text": [
      "        Id  MSSubClass  MSZoning  LotArea  LotConfig  BldgType  OverallCond  \\\n",
      "0        0          60       3.0     8450        4.0       0.0            5   \n",
      "1        1          20       3.0     9600        2.0       0.0            8   \n",
      "2        2          60       3.0    11250        4.0       0.0            5   \n",
      "3        3          70       3.0     9550        0.0       0.0            5   \n",
      "4        4          60       3.0    14260        2.0       0.0            5   \n",
      "...    ...         ...       ...      ...        ...       ...          ...   \n",
      "2914  2914         160       4.0     1936        4.0       3.0            7   \n",
      "2915  2915         160       4.0     1894        4.0       4.0            5   \n",
      "2916  2916          20       3.0    20000        4.0       0.0            7   \n",
      "2917  2917          85       3.0    10441        4.0       0.0            5   \n",
      "2918  2918          60       3.0     9627        4.0       0.0            5   \n",
      "\n",
      "      YearBuilt  YearRemodAdd  Exterior1st  BsmtFinSF2  TotalBsmtSF  \\\n",
      "0          2003          2003         12.0         0.0        856.0   \n",
      "1          1976          1976          8.0         0.0       1262.0   \n",
      "2          2001          2002         12.0         0.0        920.0   \n",
      "3          1915          1970         13.0         0.0        756.0   \n",
      "4          2000          2000         12.0         0.0       1145.0   \n",
      "...         ...           ...          ...         ...          ...   \n",
      "2914       1970          1970          5.0         0.0        546.0   \n",
      "2915       1970          1970          5.0         0.0        546.0   \n",
      "2916       1960          1996         12.0         0.0       1224.0   \n",
      "2917       1992          1992          6.0         0.0        912.0   \n",
      "2918       1993          1994          6.0         0.0        996.0   \n",
      "\n",
      "          SalePrice  \n",
      "0     208500.000000  \n",
      "1     181500.000000  \n",
      "2     223500.000000  \n",
      "3     140000.000000  \n",
      "4     250000.000000  \n",
      "...             ...  \n",
      "2914  142700.577433  \n",
      "2915  142700.577433  \n",
      "2916  190768.577460  \n",
      "2917  203738.713226  \n",
      "2918  212097.742985  \n",
      "\n",
      "[2919 rows x 13 columns]\n"
     ]
    }
   ],
   "source": [
    "X_missing = df_missing[['MSSubClass', 'YearBuilt', 'YearRemodAdd', 'Exterior1st']]\n",
    "predicted_values = model.predict(X_missing)\n",
    "df.loc[df['SalePrice'].isnull(), 'SalePrice'] = predicted_values\n",
    "print(df)"
   ]
  },
  {
   "cell_type": "code",
   "execution_count": 15,
   "id": "38343a48",
   "metadata": {},
   "outputs": [
    {
     "data": {
      "text/html": [
       "<div>\n",
       "<style scoped>\n",
       "    .dataframe tbody tr th:only-of-type {\n",
       "        vertical-align: middle;\n",
       "    }\n",
       "\n",
       "    .dataframe tbody tr th {\n",
       "        vertical-align: top;\n",
       "    }\n",
       "\n",
       "    .dataframe thead th {\n",
       "        text-align: right;\n",
       "    }\n",
       "</style>\n",
       "<table border=\"1\" class=\"dataframe\">\n",
       "  <thead>\n",
       "    <tr style=\"text-align: right;\">\n",
       "      <th></th>\n",
       "      <th>Id</th>\n",
       "      <th>MSSubClass</th>\n",
       "      <th>MSZoning</th>\n",
       "      <th>LotArea</th>\n",
       "      <th>LotConfig</th>\n",
       "      <th>BldgType</th>\n",
       "      <th>OverallCond</th>\n",
       "      <th>YearBuilt</th>\n",
       "      <th>YearRemodAdd</th>\n",
       "      <th>Exterior1st</th>\n",
       "      <th>BsmtFinSF2</th>\n",
       "      <th>TotalBsmtSF</th>\n",
       "      <th>SalePrice</th>\n",
       "    </tr>\n",
       "  </thead>\n",
       "  <tbody>\n",
       "    <tr>\n",
       "      <th>0</th>\n",
       "      <td>0</td>\n",
       "      <td>60</td>\n",
       "      <td>3.0</td>\n",
       "      <td>8450</td>\n",
       "      <td>4.0</td>\n",
       "      <td>0.0</td>\n",
       "      <td>5</td>\n",
       "      <td>2003</td>\n",
       "      <td>2003</td>\n",
       "      <td>12.0</td>\n",
       "      <td>0.0</td>\n",
       "      <td>856.0</td>\n",
       "      <td>208500.000000</td>\n",
       "    </tr>\n",
       "    <tr>\n",
       "      <th>1</th>\n",
       "      <td>1</td>\n",
       "      <td>20</td>\n",
       "      <td>3.0</td>\n",
       "      <td>9600</td>\n",
       "      <td>2.0</td>\n",
       "      <td>0.0</td>\n",
       "      <td>8</td>\n",
       "      <td>1976</td>\n",
       "      <td>1976</td>\n",
       "      <td>8.0</td>\n",
       "      <td>0.0</td>\n",
       "      <td>1262.0</td>\n",
       "      <td>181500.000000</td>\n",
       "    </tr>\n",
       "    <tr>\n",
       "      <th>2</th>\n",
       "      <td>2</td>\n",
       "      <td>60</td>\n",
       "      <td>3.0</td>\n",
       "      <td>11250</td>\n",
       "      <td>4.0</td>\n",
       "      <td>0.0</td>\n",
       "      <td>5</td>\n",
       "      <td>2001</td>\n",
       "      <td>2002</td>\n",
       "      <td>12.0</td>\n",
       "      <td>0.0</td>\n",
       "      <td>920.0</td>\n",
       "      <td>223500.000000</td>\n",
       "    </tr>\n",
       "    <tr>\n",
       "      <th>3</th>\n",
       "      <td>3</td>\n",
       "      <td>70</td>\n",
       "      <td>3.0</td>\n",
       "      <td>9550</td>\n",
       "      <td>0.0</td>\n",
       "      <td>0.0</td>\n",
       "      <td>5</td>\n",
       "      <td>1915</td>\n",
       "      <td>1970</td>\n",
       "      <td>13.0</td>\n",
       "      <td>0.0</td>\n",
       "      <td>756.0</td>\n",
       "      <td>140000.000000</td>\n",
       "    </tr>\n",
       "    <tr>\n",
       "      <th>4</th>\n",
       "      <td>4</td>\n",
       "      <td>60</td>\n",
       "      <td>3.0</td>\n",
       "      <td>14260</td>\n",
       "      <td>2.0</td>\n",
       "      <td>0.0</td>\n",
       "      <td>5</td>\n",
       "      <td>2000</td>\n",
       "      <td>2000</td>\n",
       "      <td>12.0</td>\n",
       "      <td>0.0</td>\n",
       "      <td>1145.0</td>\n",
       "      <td>250000.000000</td>\n",
       "    </tr>\n",
       "    <tr>\n",
       "      <th>...</th>\n",
       "      <td>...</td>\n",
       "      <td>...</td>\n",
       "      <td>...</td>\n",
       "      <td>...</td>\n",
       "      <td>...</td>\n",
       "      <td>...</td>\n",
       "      <td>...</td>\n",
       "      <td>...</td>\n",
       "      <td>...</td>\n",
       "      <td>...</td>\n",
       "      <td>...</td>\n",
       "      <td>...</td>\n",
       "      <td>...</td>\n",
       "    </tr>\n",
       "    <tr>\n",
       "      <th>2914</th>\n",
       "      <td>2914</td>\n",
       "      <td>160</td>\n",
       "      <td>4.0</td>\n",
       "      <td>1936</td>\n",
       "      <td>4.0</td>\n",
       "      <td>3.0</td>\n",
       "      <td>7</td>\n",
       "      <td>1970</td>\n",
       "      <td>1970</td>\n",
       "      <td>5.0</td>\n",
       "      <td>0.0</td>\n",
       "      <td>546.0</td>\n",
       "      <td>142700.577433</td>\n",
       "    </tr>\n",
       "    <tr>\n",
       "      <th>2915</th>\n",
       "      <td>2915</td>\n",
       "      <td>160</td>\n",
       "      <td>4.0</td>\n",
       "      <td>1894</td>\n",
       "      <td>4.0</td>\n",
       "      <td>4.0</td>\n",
       "      <td>5</td>\n",
       "      <td>1970</td>\n",
       "      <td>1970</td>\n",
       "      <td>5.0</td>\n",
       "      <td>0.0</td>\n",
       "      <td>546.0</td>\n",
       "      <td>142700.577433</td>\n",
       "    </tr>\n",
       "    <tr>\n",
       "      <th>2916</th>\n",
       "      <td>2916</td>\n",
       "      <td>20</td>\n",
       "      <td>3.0</td>\n",
       "      <td>20000</td>\n",
       "      <td>4.0</td>\n",
       "      <td>0.0</td>\n",
       "      <td>7</td>\n",
       "      <td>1960</td>\n",
       "      <td>1996</td>\n",
       "      <td>12.0</td>\n",
       "      <td>0.0</td>\n",
       "      <td>1224.0</td>\n",
       "      <td>190768.577460</td>\n",
       "    </tr>\n",
       "    <tr>\n",
       "      <th>2917</th>\n",
       "      <td>2917</td>\n",
       "      <td>85</td>\n",
       "      <td>3.0</td>\n",
       "      <td>10441</td>\n",
       "      <td>4.0</td>\n",
       "      <td>0.0</td>\n",
       "      <td>5</td>\n",
       "      <td>1992</td>\n",
       "      <td>1992</td>\n",
       "      <td>6.0</td>\n",
       "      <td>0.0</td>\n",
       "      <td>912.0</td>\n",
       "      <td>203738.713226</td>\n",
       "    </tr>\n",
       "    <tr>\n",
       "      <th>2918</th>\n",
       "      <td>2918</td>\n",
       "      <td>60</td>\n",
       "      <td>3.0</td>\n",
       "      <td>9627</td>\n",
       "      <td>4.0</td>\n",
       "      <td>0.0</td>\n",
       "      <td>5</td>\n",
       "      <td>1993</td>\n",
       "      <td>1994</td>\n",
       "      <td>6.0</td>\n",
       "      <td>0.0</td>\n",
       "      <td>996.0</td>\n",
       "      <td>212097.742985</td>\n",
       "    </tr>\n",
       "  </tbody>\n",
       "</table>\n",
       "<p>2919 rows × 13 columns</p>\n",
       "</div>"
      ],
      "text/plain": [
       "        Id  MSSubClass  MSZoning  LotArea  LotConfig  BldgType  OverallCond  \\\n",
       "0        0          60       3.0     8450        4.0       0.0            5   \n",
       "1        1          20       3.0     9600        2.0       0.0            8   \n",
       "2        2          60       3.0    11250        4.0       0.0            5   \n",
       "3        3          70       3.0     9550        0.0       0.0            5   \n",
       "4        4          60       3.0    14260        2.0       0.0            5   \n",
       "...    ...         ...       ...      ...        ...       ...          ...   \n",
       "2914  2914         160       4.0     1936        4.0       3.0            7   \n",
       "2915  2915         160       4.0     1894        4.0       4.0            5   \n",
       "2916  2916          20       3.0    20000        4.0       0.0            7   \n",
       "2917  2917          85       3.0    10441        4.0       0.0            5   \n",
       "2918  2918          60       3.0     9627        4.0       0.0            5   \n",
       "\n",
       "      YearBuilt  YearRemodAdd  Exterior1st  BsmtFinSF2  TotalBsmtSF  \\\n",
       "0          2003          2003         12.0         0.0        856.0   \n",
       "1          1976          1976          8.0         0.0       1262.0   \n",
       "2          2001          2002         12.0         0.0        920.0   \n",
       "3          1915          1970         13.0         0.0        756.0   \n",
       "4          2000          2000         12.0         0.0       1145.0   \n",
       "...         ...           ...          ...         ...          ...   \n",
       "2914       1970          1970          5.0         0.0        546.0   \n",
       "2915       1970          1970          5.0         0.0        546.0   \n",
       "2916       1960          1996         12.0         0.0       1224.0   \n",
       "2917       1992          1992          6.0         0.0        912.0   \n",
       "2918       1993          1994          6.0         0.0        996.0   \n",
       "\n",
       "          SalePrice  \n",
       "0     208500.000000  \n",
       "1     181500.000000  \n",
       "2     223500.000000  \n",
       "3     140000.000000  \n",
       "4     250000.000000  \n",
       "...             ...  \n",
       "2914  142700.577433  \n",
       "2915  142700.577433  \n",
       "2916  190768.577460  \n",
       "2917  203738.713226  \n",
       "2918  212097.742985  \n",
       "\n",
       "[2919 rows x 13 columns]"
      ]
     },
     "execution_count": 15,
     "metadata": {},
     "output_type": "execute_result"
    }
   ],
   "source": [
    "new_df = df\n",
    "new_df"
   ]
  },
  {
   "cell_type": "markdown",
   "id": "721be6b5",
   "metadata": {},
   "source": [
    "# Data visualization"
   ]
  },
  {
   "cell_type": "code",
   "execution_count": 16,
   "id": "9ab69f17",
   "metadata": {},
   "outputs": [
    {
     "data": {
      "image/png": "[encoded data removed]",
      "text/plain": [
       "<Figure size 576x432 with 1 Axes>"
      ]
     },
     "metadata": {
      "needs_background": "light"
     },
     "output_type": "display_data"
    }
   ],
   "source": [
    "plt.figure(figsize=(8, 6))\n",
    "plt.hist(df['SalePrice'], bins=20, color='skyblue')\n",
    "plt.xlabel('Sale Price')\n",
    "plt.ylabel('Frequency')\n",
    "plt.title('Distribution of Sale Price')\n",
    "plt.show()"
   ]
  },
  {
   "cell_type": "code",
   "execution_count": 17,
   "id": "aa2303b9",
   "metadata": {},
   "outputs": [
    {
     "data": {
      "image/png": "[encoded data removed]",
      "text/plain": [
       "<Figure size 576x432 with 1 Axes>"
      ]
     },
     "metadata": {
      "needs_background": "light"
     },
     "output_type": "display_data"
    }
   ],
   "source": [
    "plt.figure(figsize=(8, 6))\n",
    "plt.scatter(df['YearBuilt'], df['SalePrice'], color='coral')\n",
    "plt.xlabel('Year Built')\n",
    "plt.ylabel('Sale Price')\n",
    "plt.title('Year Built vs. Sale Price')\n",
    "plt.show()"
   ]
  },
  {
   "cell_type": "code",
   "execution_count": 18,
   "id": "4229b9b7",
   "metadata": {},
   "outputs": [
    {
     "data": {
      "image/png": "[encoded data removed]",
      "text/plain": [
       "<Figure size 576x432 with 1 Axes>"
      ]
     },
     "metadata": {
      "needs_background": "light"
     },
     "output_type": "display_data"
    }
   ],
   "source": [
    "plt.figure(figsize=(8, 6))\n",
    "sns.histplot(df['LotArea'], kde=True, bins=30, color='skyblue')\n",
    "plt.title('Distribution of LotArea')\n",
    "plt.xlabel('LotArea')\n",
    "plt.ylabel('Frequency')\n",
    "plt.show()"
   ]
  },
  {
   "cell_type": "markdown",
   "id": "10a64a82",
   "metadata": {},
   "source": [
    "# Corelation Analysis"
   ]
  },
  {
   "cell_type": "code",
   "execution_count": 19,
   "id": "11dcc304",
   "metadata": {},
   "outputs": [
    {
     "data": {
      "image/png": "[encoded data removed]",
      "text/plain": [
       "<Figure size 864x720 with 2 Axes>"
      ]
     },
     "metadata": {
      "needs_background": "light"
     },
     "output_type": "display_data"
    }
   ],
   "source": [
    "X = df[['MSSubClass', 'MSZoning', 'LotArea', 'LotConfig', 'BldgType',\n",
    "       'OverallCond', 'YearBuilt', 'YearRemodAdd', 'Exterior1st', 'BsmtFinSF2',\n",
    "       'TotalBsmtSF']]\n",
    "y = df['SalePrice']\n",
    "\n",
    "plt.figure(figsize=(12,10))\n",
    "cor = X.corr(method='pearson')\n",
    "sns.heatmap(cor,annot=True)\n",
    "plt.title('Correlation Matrix')\n",
    "plt.show()"
   ]
  },
  {
   "cell_type": "code",
   "execution_count": 20,
   "id": "774fd839",
   "metadata": {},
   "outputs": [
    {
     "name": "stdout",
     "output_type": "stream",
     "text": [
      "{'YearBuilt', 'Exterior1st', 'BldgType', 'YearRemodAdd', 'TotalBsmtSF'}\n"
     ]
    }
   ],
   "source": [
    "def correlation(data , threshold):\n",
    "    corr_rel = set()\n",
    "    C = data.corr()\n",
    "    for i in range(len(C.columns)):\n",
    "        for j in range(i):\n",
    "            if abs(C.iloc[i,j]>threshold):\n",
    "                col_name=C.columns[i]\n",
    "                corr_rel.add(col_name)\n",
    "    return corr_rel\n",
    "\n",
    "feature = correlation(X , 0.2)\n",
    "len(set(feature))\n",
    "print(feature)"
   ]
  },
  {
   "cell_type": "markdown",
   "id": "f2a06496",
   "metadata": {},
   "source": [
    "# Splitting the data into training and test sets"
   ]
  },
  {
   "cell_type": "code",
   "execution_count": 21,
   "id": "00242190",
   "metadata": {},
   "outputs": [],
   "source": [
    "X = df[['Exterior1st', 'TotalBsmtSF', 'BldgType', 'YearBuilt', 'YearRemodAdd']]\n",
    "y = df['SalePrice']"
   ]
  },
  {
   "cell_type": "code",
   "execution_count": 22,
   "id": "40b0208a",
   "metadata": {},
   "outputs": [],
   "source": [
    "X_train , x_test , Y_train , y_test = train_test_split(X,y,test_size = 0.2,random_state=42)"
   ]
  },
  {
   "cell_type": "code",
   "execution_count": 23,
   "id": "0060da98",
   "metadata": {},
   "outputs": [
    {
     "data": {
      "text/html": [
       "<style>#sk-container-id-2 {color: black;background-color: white;}#sk-container-id-2 pre{padding: 0;}#sk-container-id-2 div.sk-toggleable {background-color: white;}#sk-container-id-2 label.sk-toggleable__label {cursor: pointer;display: block;width: 100%;margin-bottom: 0;padding: 0.3em;box-sizing: border-box;text-align: center;}#sk-container-id-2 label.sk-toggleable__label-arrow:before {content: \"▸\";float: left;margin-right: 0.25em;color: #696969;}#sk-container-id-2 label.sk-toggleable__label-arrow:hover:before {color: black;}#sk-container-id-2 div.sk-estimator:hover label.sk-toggleable__label-arrow:before {color: black;}#sk-container-id-2 div.sk-toggleable__content {max-height: 0;max-width: 0;overflow: hidden;text-align: left;background-color: #f0f8ff;}#sk-container-id-2 div.sk-toggleable__content pre {margin: 0.2em;color: black;border-radius: 0.25em;background-color: #f0f8ff;}#sk-container-id-2 input.sk-toggleable__control:checked~div.sk-toggleable__content {max-height: 200px;max-width: 100%;overflow: auto;}#sk-container-id-2 input.sk-toggleable__control:checked~label.sk-toggleable__label-arrow:before {content: \"▾\";}#sk-container-id-2 div.sk-estimator input.sk-toggleable__control:checked~label.sk-toggleable__label {background-color: #d4ebff;}#sk-container-id-2 div.sk-label input.sk-toggleable__control:checked~label.sk-toggleable__label {background-color: #d4ebff;}#sk-container-id-2 input.sk-hidden--visually {border: 0;clip: rect(1px 1px 1px 1px);clip: rect(1px, 1px, 1px, 1px);height: 1px;margin: -1px;overflow: hidden;padding: 0;position: absolute;width: 1px;}#sk-container-id-2 div.sk-estimator {font-family: monospace;background-color: #f0f8ff;border: 1px dotted black;border-radius: 0.25em;box-sizing: border-box;margin-bottom: 0.5em;}#sk-container-id-2 div.sk-estimator:hover {background-color: #d4ebff;}#sk-container-id-2 div.sk-parallel-item::after {content: \"\";width: 100%;border-bottom: 1px solid gray;flex-grow: 1;}#sk-container-id-2 div.sk-label:hover label.sk-toggleable__label {background-color: #d4ebff;}#sk-container-id-2 div.sk-serial::before {content: \"\";position: absolute;border-left: 1px solid gray;box-sizing: border-box;top: 0;bottom: 0;left: 50%;z-index: 0;}#sk-container-id-2 div.sk-serial {display: flex;flex-direction: column;align-items: center;background-color: white;padding-right: 0.2em;padding-left: 0.2em;position: relative;}#sk-container-id-2 div.sk-item {position: relative;z-index: 1;}#sk-container-id-2 div.sk-parallel {display: flex;align-items: stretch;justify-content: center;background-color: white;position: relative;}#sk-container-id-2 div.sk-item::before, #sk-container-id-2 div.sk-parallel-item::before {content: \"\";position: absolute;border-left: 1px solid gray;box-sizing: border-box;top: 0;bottom: 0;left: 50%;z-index: -1;}#sk-container-id-2 div.sk-parallel-item {display: flex;flex-direction: column;z-index: 1;position: relative;background-color: white;}#sk-container-id-2 div.sk-parallel-item:first-child::after {align-self: flex-end;width: 50%;}#sk-container-id-2 div.sk-parallel-item:last-child::after {align-self: flex-start;width: 50%;}#sk-container-id-2 div.sk-parallel-item:only-child::after {width: 0;}#sk-container-id-2 div.sk-dashed-wrapped {border: 1px dashed gray;margin: 0 0.4em 0.5em 0.4em;box-sizing: border-box;padding-bottom: 0.4em;background-color: white;}#sk-container-id-2 div.sk-label label {font-family: monospace;font-weight: bold;display: inline-block;line-height: 1.2em;}#sk-container-id-2 div.sk-label-container {text-align: center;}#sk-container-id-2 div.sk-container {/* jupyter's `normalize.less` sets `[hidden] { display: none; }` but bootstrap.min.css set `[hidden] { display: none !important; }` so we also need the `!important` here to be able to override the default hidden behavior on the sphinx rendered scikit-learn.org. See: https://github.com/scikit-learn/scikit-learn/issues/21755 */display: inline-block !important;position: relative;}#sk-container-id-2 div.sk-text-repr-fallback {display: none;}</style><div id=\"sk-container-id-2\" class=\"sk-top-container\"><div class=\"sk-text-repr-fallback\"><pre>LinearRegression()</pre><b>In a Jupyter environment, please rerun this cell to show the HTML representation or trust the notebook. <br />On GitHub, the HTML representation is unable to render, please try loading this page with nbviewer.org.</b></div><div class=\"sk-container\" hidden><div class=\"sk-item\"><div class=\"sk-estimator sk-toggleable\"><input class=\"sk-toggleable__control sk-hidden--visually\" id=\"sk-estimator-id-2\" type=\"checkbox\" checked><label for=\"sk-estimator-id-2\" class=\"sk-toggleable__label sk-toggleable__label-arrow\">LinearRegression</label><div class=\"sk-toggleable__content\"><pre>LinearRegression()</pre></div></div></div></div></div>"
      ],
      "text/plain": [
       "LinearRegression()"
      ]
     },
     "execution_count": 23,
     "metadata": {},
     "output_type": "execute_result"
    }
   ],
   "source": [
    "model= LinearRegression()\n",
    "model.fit(X_train, Y_train)"
   ]
  },
  {
   "cell_type": "markdown",
   "id": "180848ed",
   "metadata": {},
   "source": [
    "# Prediction on test set"
   ]
  },
  {
   "cell_type": "code",
   "execution_count": 24,
   "id": "0d04c740",
   "metadata": {},
   "outputs": [
    {
     "data": {
      "text/plain": [
       "array([147129.14875557, 187742.46458682, 173622.32947249, 198024.25916374,\n",
       "       222766.14754047, 264384.61135685, 100768.99102554, 195103.3770413 ,\n",
       "        88239.59420058, 204977.04153801, 172001.39748218, 192470.14264317,\n",
       "       150528.1478049 , 233095.12028547, 178466.58455954, 219309.29563369,\n",
       "       146334.79582046, 206350.86739632,  93279.91377313, 137312.99061943,\n",
       "       219651.97995112,  93407.1479463 , 103394.47990777, 217251.92852075,\n",
       "       201683.63071959, 216167.23293571, 216068.18518697, 124826.59865576,\n",
       "       210601.37623228, 138697.12140935, 259782.68294876, 157512.57020094,\n",
       "       189252.99521883, 203279.92544512, 213375.1822456 , 245263.82084927,\n",
       "       166518.32700334, 151396.45398333, 141299.89838638, 142551.45015377,\n",
       "        93183.07723749, 208327.60780192, 258331.27619862, 166163.4056563 ,\n",
       "       173037.21806627, 201667.61533408, 214779.59212596, 182624.60478219,\n",
       "       178125.97059913, 195172.95084391, 112150.91228877, 189494.27037577,\n",
       "       107438.8347263 , 213581.01105936, 163369.58623372,  92229.63161091,\n",
       "       128325.08463076, 158202.95354884, 236857.6741021 , 172293.24935078,\n",
       "       155027.39173042, 131550.72945231, 152541.10778645, 162220.4035809 ,\n",
       "       166664.76497642, 231798.25193741, 210486.54435493, 160369.10742753,\n",
       "       140531.02535859, 134523.45451087, 224893.10994932, 127101.93181548,\n",
       "       205324.4807896 , 228023.40366794, 126661.32050894,  73487.66241231,\n",
       "       222737.16077243, 112495.20063683, 212714.33807515, 219107.80102673,\n",
       "       144477.34342734, 235560.98753608, 173644.97680758,  98577.98863717,\n",
       "       148165.87443453, 212281.75073119,  79238.66104379, 125493.4597443 ,\n",
       "        99518.99808007, 199520.22798268, 189834.67321968, 106821.12394206,\n",
       "       113245.26685298, 223494.26814572, 177713.12216929, 143847.47130992,\n",
       "       139935.85037179, 241644.55289623, 126655.65989657, 169633.63037856,\n",
       "       143675.30664967, 166904.82783864, 180593.44696145, 180821.58700922,\n",
       "       166001.21242279, 150497.46973131, 106074.04436125, 149719.53845275,\n",
       "       260200.58618148, 187713.87358103, 158767.75421892, 113916.34104161,\n",
       "       218834.56636662, 284571.55494603, 233395.83674505, 150154.91034261,\n",
       "       137808.10205597, 212050.56152562, 285680.36616402, 243225.05844553,\n",
       "       118587.41660774, 174799.84580788, 241725.76091936, 144996.38888967,\n",
       "        96122.19458269, 112950.27529736, 156899.37059108, 229099.43877348,\n",
       "       211253.07557578, 237702.91287268, 181984.54908131, 123733.6945006 ,\n",
       "       188224.74266626, 180956.86222046, 164312.27290194, 165585.66361128,\n",
       "       234756.83385791, 231976.22179114, 233201.56406625, 232689.08016982,\n",
       "       151955.31886608, 160592.43521597, 113559.19619568, 219256.18871639,\n",
       "       258523.31880158, 259254.19100975, 155290.62180222, 270012.72862364,\n",
       "       214578.80534958, 203004.84050031, 180741.7738896 , 261974.65978461,\n",
       "        90125.31785701, 158782.11471255, 107169.93848961,  91952.49837744,\n",
       "       244528.96316822, 223590.94916889, 139784.81693167, 104053.92860368,\n",
       "       262337.04498697, 261007.6116099 , 248409.86902014, 162955.0231579 ,\n",
       "       116608.3049654 , 156698.07885657, 253017.66160734, 185544.87790296,\n",
       "       190558.50905323,  94355.22990727, 149118.58512372, 131313.12352553,\n",
       "       218677.64527813, 221096.80671371, 200594.24541166, 249710.72284109,\n",
       "       143359.13463649, 218851.67405161, 153052.11830282, 232201.83203104,\n",
       "       250494.70196655, 236758.04315182, 174861.68413309, 213645.20786608,\n",
       "       200066.91215785, 197961.17524867, 223753.07868185, 241522.50323718,\n",
       "       192472.3336788 , 147447.87904463, 234674.10038392, 241112.12439328,\n",
       "        89050.1994709 , 150539.88572704, 216327.18895995, 259003.53056574,\n",
       "       229580.9287951 , 169932.63771434, 288565.71100716, 180668.41330299,\n",
       "       170291.97154038, 166361.9037978 , 155920.04019619, 150341.44202181,\n",
       "       167231.18538203,  83375.08797003, 108028.40001207, 197942.36349263,\n",
       "       113095.25084694, 196982.95345199,  92932.41679348, 168214.90108685,\n",
       "       177874.18686856, 190147.2157837 , 213327.3559309 , 109454.96255532,\n",
       "       224523.09749264, 126661.32050894, 208915.60324418, 197933.256761  ,\n",
       "        93204.80755346, 152428.73499025, 213026.06839924,  71146.72482019,\n",
       "       245812.73773084, 200284.48416   , 210601.37623228, 236182.55061529,\n",
       "       116382.62002044,  99900.92067703, 111220.4884132 , 153047.1219728 ,\n",
       "       149062.44310366, 219757.46521177, 136609.65885848, 145245.58235568,\n",
       "       169875.02248636, 210331.2327252 , 115272.1945663 , 125439.06298633,\n",
       "       254293.46522419, 159966.67887222, 251822.13144247, 258456.13913505,\n",
       "       276544.46356187, 154360.90520223, 166264.19735242, 232265.31275799,\n",
       "       191655.14017175, 200572.88138164, 244772.58723761, 150590.34895452,\n",
       "       159094.60120111, 108817.53680593, 267122.8074279 , 101378.05119902,\n",
       "       123721.32678694, 133397.07905894, 247671.96043735, 227313.14879791,\n",
       "       122836.98515028, 148216.01782934, 120041.82376973, 248199.81258769,\n",
       "       198386.10586201, 207864.81898239, 151016.78295551,  77549.89488201,\n",
       "       232537.57353651, 168906.68742599, 181781.05306706, 110709.93748437,\n",
       "       182384.10895014,  91249.85247003, 249703.68646647, 190092.69200844,\n",
       "       142873.41194858, 220192.07983594, 187651.50859916, 188854.06486701,\n",
       "       256869.53178228, 195616.93124054, 158767.53714701, 107855.19816172,\n",
       "       168054.89110605, 156247.03752824, 227920.39698722, 181787.25238359,\n",
       "       143140.38461182, 117073.19707463, 164941.77482007, 223341.43407979,\n",
       "       172584.3530379 , 192488.40602639, 191112.72883889, 226433.77993733,\n",
       "       277506.4569337 , 127649.35018211, 158102.09109407, 191845.31814871,\n",
       "       199519.77721424, 237761.53071373, 160622.9439682 , 209399.50569873,\n",
       "       130619.05277903, 260341.93749653, 217633.55370465, 248727.95127134,\n",
       "       172923.37425547, 215583.81384605, 219298.31817882, 194274.6343275 ,\n",
       "       180784.2486244 , 173677.16577723, 127051.04861058, 168048.90173201,\n",
       "       110985.67655914, 146572.33502518, 227121.75423281, 153171.82497689,\n",
       "       185284.89732217, 197774.69489546, 236574.0299675 ,  85546.59547069,\n",
       "       189494.27037577, 251067.82326634, 211861.68225895, 150866.31328428,\n",
       "        93797.88858962, 165045.98822019, 112682.17435667, 213268.93893471,\n",
       "        92268.6798592 ,  56933.90128389, 242372.37420267, 160492.44491309,\n",
       "       228749.30928345, 203462.21863103, 181082.90187383, 169607.98703402,\n",
       "       110523.18384197, 154702.44672876, 176185.1725339 , 189152.94990463,\n",
       "       221180.13106741, 177255.62578214, 222838.28651926,  97305.13305655,\n",
       "       196674.1951131 ,  93378.25952746, 186371.65874791, 203678.02943859,\n",
       "       140802.60735876, 233170.86177749, 233827.51794451, 186990.83914071,\n",
       "       114050.31070966, 216677.07125657, 114975.4623551 , 251772.96560542,\n",
       "       100719.91537981, 194741.44879593, 145292.64142607, 208120.83221739,\n",
       "       195386.07967139, 196299.43671625, 217692.55450536, 237969.12712415,\n",
       "       130252.99551588, 182869.98319901, 134612.14850416, 145326.08386809,\n",
       "       190304.64280827, 104567.0751881 , 168714.51736738, 223389.23607055,\n",
       "       158086.48106933, 158908.06952191, 215918.09794257, 150221.59461492,\n",
       "       161137.5994676 , 265477.58223408, 202105.74654476, 157987.42448805,\n",
       "       101727.49943799, 220752.35800523, 210457.85452536, 151475.3034439 ,\n",
       "       142327.53593025, 160880.47119926, 158381.0363117 , 232605.54530259,\n",
       "       234233.55806016, 201479.6300123 , 218271.60516248, 134108.41198676,\n",
       "       225874.6426015 , 228037.97635563, 141111.84125631, 196648.32061642,\n",
       "       134952.14187543,  64040.31305204, 168711.46862163, 175537.8795856 ,\n",
       "       141643.59413086, 254900.9999468 ,  99922.90360538, 210818.48086398,\n",
       "       217337.71289648, 125512.03047432,  95734.09359147, 168008.76340523,\n",
       "       154094.20597514, 231838.85594898,  91183.44998156, 183713.18907185,\n",
       "       205833.38905562, 220183.04460777, 259328.36265826, 255697.52637064,\n",
       "       210561.46822666, 125582.37892918, 138902.86797343, 213452.29451726,\n",
       "       164481.73808832, 232934.22969008, 238768.52529824, 259769.95198259,\n",
       "       177332.25745267, 186490.73221028, 175401.74441181,  95077.33455894,\n",
       "       154222.47306866, 224509.7089247 , 182805.1074721 , 159170.00970655,\n",
       "        85195.96604221, 231308.54377661, 162744.56504086, 100006.38549401,\n",
       "       197086.41972026, 124826.59865576, 154853.77016886, 262781.51562546,\n",
       "       182694.92413574, 137041.71850129, 103639.49813586, 233275.55016122,\n",
       "       217889.68067978, 130449.75108297, 151286.36065162, 144688.49471968,\n",
       "       209597.3096153 , 221965.68003639, 177652.97887738, 148793.62669644,\n",
       "       136250.70953167, 148829.30110005, 198418.70352916,  94577.62790707,\n",
       "       123895.09503672, 224102.09444924, 160554.6963777 , 272796.39159215,\n",
       "       220567.95195029, 153980.94730323, 156039.44111781, 315528.30013725,\n",
       "       221591.68210682, 128694.10856487, 289800.91061244, 121255.10140825,\n",
       "       227437.42085463, 246029.78614526, 233116.18501669, 229667.89493539,\n",
       "       164985.58703515, 257580.8647101 , 209609.56213117, 143833.71243795,\n",
       "       266518.61014032, 191317.51433226, 127430.62418083, 256754.7561222 ,\n",
       "       164362.94804899, 151390.87041517, 162013.69283269, 148488.37968295,\n",
       "        95576.84831588, 203472.37977631, 254199.75429533, 204526.31648034,\n",
       "       229928.94195455, 210196.62168243, 204172.14888586, 252425.6806922 ,\n",
       "       189436.49889565, 241313.61900024, 101131.38504701, 178465.05910868,\n",
       "        95356.14050142, 237152.47054025, 224492.58075742, 257672.16000958,\n",
       "        96574.26084838, 207791.19382608, 101187.48965428, 228180.50943523,\n",
       "       115128.81917264, 129871.62490026, 232432.9531947 , 204955.18892387,\n",
       "       174154.93207931, 176381.52355269, 242638.58845414, 218288.0935411 ,\n",
       "       162521.12004048, 250372.88993186, 155814.71654011, 166836.25650214,\n",
       "       120586.10394008, 182548.05044727, 203063.75444371, 204404.50444565,\n",
       "       124931.55211769, 144080.46746656, 250228.48771508, 216654.48107449,\n",
       "       231860.5115599 , 147778.81294061, 125512.03047432, 136078.7558064 ,\n",
       "       270252.41612909, 167712.04518405, 211461.508578  , 146152.56598013,\n",
       "        92446.86369313, 146705.80132116, 241128.6127719 , 194253.91780404,\n",
       "       179120.70814632, 168555.15222286, 207225.78856591, 148508.7515185 ,\n",
       "       158257.69882614, 105554.84225175, 183914.68367881, 159105.4468841 ,\n",
       "        97740.99137968, 274129.57413248, 234192.9540486 , 236973.56611537,\n",
       "       143794.75692134, 175676.53325427, 259556.43292019, 100807.77291799,\n",
       "       176953.55345413, 215835.36446857, 144310.60155503, 175983.63805061,\n",
       "       232846.91986349, 221058.31903272, 162415.15800178, 161601.50792697,\n",
       "       131127.11468412, 175516.09877461,  91594.07631855, 150608.36278401,\n",
       "       159666.46152012,  74211.49824586, 242273.15235005, 209972.57387808,\n",
       "       116472.47865433, 170521.38621594, 167649.8417737 , 164552.8460696 ,\n",
       "       167534.83185121, 209888.57407087, 240615.4242505 ,  97345.73706811,\n",
       "       256980.36636211, 248657.89029064,  74211.49824586, 243107.23188373])"
      ]
     },
     "execution_count": 24,
     "metadata": {},
     "output_type": "execute_result"
    }
   ],
   "source": [
    "pred=model.predict(x_test)\n",
    "pred"
   ]
  },
  {
   "cell_type": "markdown",
   "id": "d6413792",
   "metadata": {},
   "source": [
    "# Evaluate model performance"
   ]
  },
  {
   "cell_type": "code",
   "execution_count": 25,
   "id": "3568023a",
   "metadata": {},
   "outputs": [
    {
     "name": "stdout",
     "output_type": "stream",
     "text": [
      "Mean Squared Error (MSE) - Train: 1711688111.2734203\n",
      "Mean Squared Error (MSE) - Test: 1834141921.298216\n",
      "R-squared (R2) - Train: 0.5916694314020137\n",
      "R-squared (R2) - Test: 0.6105520943768766\n"
     ]
    }
   ],
   "source": [
    "y_pred_train = model.predict(X_train)\n",
    "y_pred_test = model.predict(x_test)\n",
    "\n",
    "mse_train = mean_squared_error(Y_train, y_pred_train)\n",
    "mse_test = mean_squared_error(y_test, y_pred_test)\n",
    "\n",
    "r2_train = r2_score(Y_train, y_pred_train)\n",
    "r2_test = r2_score(y_test, y_pred_test)\n",
    "\n",
    "print(\"Mean Squared Error (MSE) - Train:\", mse_train)\n",
    "print(\"Mean Squared Error (MSE) - Test:\", mse_test)\n",
    "print(\"R-squared (R2) - Train:\", r2_train)\n",
    "print(\"R-squared (R2) - Test:\", r2_test)\n",
    "\n"
   ]
  },
  {
   "cell_type": "code",
   "execution_count": null,
   "id": "cce63f0c",
   "metadata": {},
   "outputs": [],
   "source": []
  },
  {
   "cell_type": "code",
   "execution_count": null,
   "id": "685f64da",
   "metadata": {},
   "outputs": [],
   "source": []
  }
 ],
 "metadata": {
  "kernelspec": {
   "display_name": "Python 3 (ipykernel)",
   "language": "python",
   "name": "python3"
  },
  "language_info": {
   "codemirror_mode": {
    "name": "ipython",
    "version": 3
   },
   "file_extension": ".py",
   "mimetype": "text/x-python",
   "name": "python",
   "nbconvert_exporter": "python",
   "pygments_lexer": "ipython3",
   "version": "3.10.9"
  }
 },
 "nbformat": 4,
 "nbformat_minor": 5
}
